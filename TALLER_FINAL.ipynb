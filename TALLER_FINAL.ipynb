{
  "nbformat": 4,
  "nbformat_minor": 0,
  "metadata": {
    "colab": {
      "provenance": [],
      "authorship_tag": "ABX9TyPnVQp8Nxs03HEWCXch2oc7",
      "include_colab_link": true
    },
    "kernelspec": {
      "name": "python3",
      "display_name": "Python 3"
    },
    "language_info": {
      "name": "python"
    }
  },
  "cells": [
    {
      "cell_type": "markdown",
      "metadata": {
        "id": "view-in-github",
        "colab_type": "text"
      },
      "source": [
        "<a href=\"https://colab.research.google.com/github/Monoef/EVALUACIONFINAL/blob/main/TALLER_FINAL.ipynb\" target=\"_parent\"><img src=\"https://colab.research.google.com/assets/colab-badge.svg\" alt=\"Open In Colab\"/></a>"
      ]
    },
    {
      "cell_type": "markdown",
      "source": [
        "TALLER FINAL PROGRAMACION Y ALGORITMIA\n",
        "-  PRESENTADOR POR: ERICK DAVID FLOREZ SALGADO\n",
        "- ID: 000415292\n",
        "- Correo: Erick.florez@upb.edu.co"
      ],
      "metadata": {
        "id": "SmMELoz-MUpT"
      }
    },
    {
      "cell_type": "code",
      "source": [
        "# Calculadora de Gastos Mensuales\n",
        "\n",
        "# Inicializar el diccionario para gastos por categoría y el total general\n",
        "gastos_por_categoria = {}\n",
        "total_general = 0\n",
        "\n",
        "while True:\n",
        "    # Solicitar el monto y la categoría del gasto\n",
        "    monto = float(input(\"Ingrese el monto del gasto: \"))\n",
        "    categoria = input(\"Ingrese la categoría del gasto: \")\n",
        "\n",
        "    # Actualizar el total de la categoría y el total general\n",
        "    if categoria in gastos_por_categoria:\n",
        "        gastos_por_categoria[categoria] += monto\n",
        "    else:\n",
        "        gastos_por_categoria[categoria] = monto\n",
        "\n",
        "    total_general += monto\n",
        "\n",
        "    # Preguntar si desea ingresar otro gasto\n",
        "    respuesta = input(\"¿Desea ingresar otro gasto? (si/no): \").strip().lower()\n",
        "    if respuesta != \"si\":\n",
        "        break\n",
        "\n",
        "# Mostrar el total de cada categoría y el total general\n",
        "print(\"\\nResumen de Gastos:\")\n",
        "for categoria, total in gastos_por_categoria.items():\n",
        "    print(f\"Total en {categoria}: ${total:.2f}\")\n",
        "print(f\"Gasto total: ${total_general:.2f}\")\n"
      ],
      "metadata": {
        "colab": {
          "base_uri": "https://localhost:8080/"
        },
        "id": "V6lDh3E5Mki7",
        "outputId": "d7ed770a-28d3-459d-cb4b-8dbd2872eb93"
      },
      "execution_count": 2,
      "outputs": [
        {
          "output_type": "stream",
          "name": "stdout",
          "text": [
            "Ingrese el monto del gasto: 200\n",
            "Ingrese la categoría del gasto: 50\n",
            "¿Desea ingresar otro gasto? (si/no): si\n",
            "Ingrese el monto del gasto: 50\n",
            "Ingrese la categoría del gasto: 200\n",
            "¿Desea ingresar otro gasto? (si/no): no\n",
            "\n",
            "Resumen de Gastos:\n",
            "Total en 50: $200.00\n",
            "Total en 200: $50.00\n",
            "Gasto total: $250.00\n"
          ]
        }
      ]
    },
    {
      "cell_type": "code",
      "source": [],
      "metadata": {
        "id": "Ov0BBT34MqyZ"
      },
      "execution_count": null,
      "outputs": []
    }
  ]
}